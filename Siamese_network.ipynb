{
  "nbformat": 4,
  "nbformat_minor": 0,
  "metadata": {
    "colab": {
      "provenance": []
    },
    "kernelspec": {
      "name": "python3",
      "display_name": "Python 3"
    },
    "language_info": {
      "name": "python"
    }
  },
  "cells": [
    {
      "cell_type": "markdown",
      "source": [
        "Step1:First, install and import the required libraries"
      ],
      "metadata": {
        "id": "YY3-urv1IL_0"
      }
    },
    {
      "cell_type": "code",
      "source": [
        "pip install tensorflow scikit-learn matplotlib numpy\n"
      ],
      "metadata": {
        "colab": {
          "base_uri": "https://localhost:8080/"
        },
        "id": "PCTgF5FgIMoH",
        "outputId": "e14f1366-c637-4e8c-b1d0-eca6df2b5996"
      },
      "execution_count": null,
      "outputs": [
        {
          "output_type": "stream",
          "name": "stdout",
          "text": [
            "Requirement already satisfied: tensorflow in /usr/local/lib/python3.10/dist-packages (2.14.0)\n",
            "Requirement already satisfied: scikit-learn in /usr/local/lib/python3.10/dist-packages (1.2.2)\n",
            "Requirement already satisfied: matplotlib in /usr/local/lib/python3.10/dist-packages (3.7.1)\n",
            "Requirement already satisfied: numpy in /usr/local/lib/python3.10/dist-packages (1.23.5)\n",
            "Requirement already satisfied: absl-py>=1.0.0 in /usr/local/lib/python3.10/dist-packages (from tensorflow) (1.4.0)\n",
            "Requirement already satisfied: astunparse>=1.6.0 in /usr/local/lib/python3.10/dist-packages (from tensorflow) (1.6.3)\n",
            "Requirement already satisfied: flatbuffers>=23.5.26 in /usr/local/lib/python3.10/dist-packages (from tensorflow) (23.5.26)\n",
            "Requirement already satisfied: gast!=0.5.0,!=0.5.1,!=0.5.2,>=0.2.1 in /usr/local/lib/python3.10/dist-packages (from tensorflow) (0.5.4)\n",
            "Requirement already satisfied: google-pasta>=0.1.1 in /usr/local/lib/python3.10/dist-packages (from tensorflow) (0.2.0)\n",
            "Requirement already satisfied: h5py>=2.9.0 in /usr/local/lib/python3.10/dist-packages (from tensorflow) (3.9.0)\n",
            "Requirement already satisfied: libclang>=13.0.0 in /usr/local/lib/python3.10/dist-packages (from tensorflow) (16.0.6)\n",
            "Requirement already satisfied: ml-dtypes==0.2.0 in /usr/local/lib/python3.10/dist-packages (from tensorflow) (0.2.0)\n",
            "Requirement already satisfied: opt-einsum>=2.3.2 in /usr/local/lib/python3.10/dist-packages (from tensorflow) (3.3.0)\n",
            "Requirement already satisfied: packaging in /usr/local/lib/python3.10/dist-packages (from tensorflow) (23.2)\n",
            "Requirement already satisfied: protobuf!=4.21.0,!=4.21.1,!=4.21.2,!=4.21.3,!=4.21.4,!=4.21.5,<5.0.0dev,>=3.20.3 in /usr/local/lib/python3.10/dist-packages (from tensorflow) (3.20.3)\n",
            "Requirement already satisfied: setuptools in /usr/local/lib/python3.10/dist-packages (from tensorflow) (67.7.2)\n",
            "Requirement already satisfied: six>=1.12.0 in /usr/local/lib/python3.10/dist-packages (from tensorflow) (1.16.0)\n",
            "Requirement already satisfied: termcolor>=1.1.0 in /usr/local/lib/python3.10/dist-packages (from tensorflow) (2.3.0)\n",
            "Requirement already satisfied: typing-extensions>=3.6.6 in /usr/local/lib/python3.10/dist-packages (from tensorflow) (4.5.0)\n",
            "Requirement already satisfied: wrapt<1.15,>=1.11.0 in /usr/local/lib/python3.10/dist-packages (from tensorflow) (1.14.1)\n",
            "Requirement already satisfied: tensorflow-io-gcs-filesystem>=0.23.1 in /usr/local/lib/python3.10/dist-packages (from tensorflow) (0.34.0)\n",
            "Requirement already satisfied: grpcio<2.0,>=1.24.3 in /usr/local/lib/python3.10/dist-packages (from tensorflow) (1.59.0)\n",
            "Requirement already satisfied: tensorboard<2.15,>=2.14 in /usr/local/lib/python3.10/dist-packages (from tensorflow) (2.14.1)\n",
            "Requirement already satisfied: tensorflow-estimator<2.15,>=2.14.0 in /usr/local/lib/python3.10/dist-packages (from tensorflow) (2.14.0)\n",
            "Requirement already satisfied: keras<2.15,>=2.14.0 in /usr/local/lib/python3.10/dist-packages (from tensorflow) (2.14.0)\n",
            "Requirement already satisfied: scipy>=1.3.2 in /usr/local/lib/python3.10/dist-packages (from scikit-learn) (1.11.3)\n",
            "Requirement already satisfied: joblib>=1.1.1 in /usr/local/lib/python3.10/dist-packages (from scikit-learn) (1.3.2)\n",
            "Requirement already satisfied: threadpoolctl>=2.0.0 in /usr/local/lib/python3.10/dist-packages (from scikit-learn) (3.2.0)\n",
            "Requirement already satisfied: contourpy>=1.0.1 in /usr/local/lib/python3.10/dist-packages (from matplotlib) (1.1.1)\n",
            "Requirement already satisfied: cycler>=0.10 in /usr/local/lib/python3.10/dist-packages (from matplotlib) (0.12.1)\n",
            "Requirement already satisfied: fonttools>=4.22.0 in /usr/local/lib/python3.10/dist-packages (from matplotlib) (4.43.1)\n",
            "Requirement already satisfied: kiwisolver>=1.0.1 in /usr/local/lib/python3.10/dist-packages (from matplotlib) (1.4.5)\n",
            "Requirement already satisfied: pillow>=6.2.0 in /usr/local/lib/python3.10/dist-packages (from matplotlib) (9.4.0)\n",
            "Requirement already satisfied: pyparsing>=2.3.1 in /usr/local/lib/python3.10/dist-packages (from matplotlib) (3.1.1)\n",
            "Requirement already satisfied: python-dateutil>=2.7 in /usr/local/lib/python3.10/dist-packages (from matplotlib) (2.8.2)\n",
            "Requirement already satisfied: wheel<1.0,>=0.23.0 in /usr/local/lib/python3.10/dist-packages (from astunparse>=1.6.0->tensorflow) (0.41.2)\n",
            "Requirement already satisfied: google-auth<3,>=1.6.3 in /usr/local/lib/python3.10/dist-packages (from tensorboard<2.15,>=2.14->tensorflow) (2.17.3)\n",
            "Requirement already satisfied: google-auth-oauthlib<1.1,>=0.5 in /usr/local/lib/python3.10/dist-packages (from tensorboard<2.15,>=2.14->tensorflow) (1.0.0)\n",
            "Requirement already satisfied: markdown>=2.6.8 in /usr/local/lib/python3.10/dist-packages (from tensorboard<2.15,>=2.14->tensorflow) (3.5)\n",
            "Requirement already satisfied: requests<3,>=2.21.0 in /usr/local/lib/python3.10/dist-packages (from tensorboard<2.15,>=2.14->tensorflow) (2.31.0)\n",
            "Requirement already satisfied: tensorboard-data-server<0.8.0,>=0.7.0 in /usr/local/lib/python3.10/dist-packages (from tensorboard<2.15,>=2.14->tensorflow) (0.7.2)\n",
            "Requirement already satisfied: werkzeug>=1.0.1 in /usr/local/lib/python3.10/dist-packages (from tensorboard<2.15,>=2.14->tensorflow) (3.0.1)\n",
            "Requirement already satisfied: cachetools<6.0,>=2.0.0 in /usr/local/lib/python3.10/dist-packages (from google-auth<3,>=1.6.3->tensorboard<2.15,>=2.14->tensorflow) (5.3.2)\n",
            "Requirement already satisfied: pyasn1-modules>=0.2.1 in /usr/local/lib/python3.10/dist-packages (from google-auth<3,>=1.6.3->tensorboard<2.15,>=2.14->tensorflow) (0.3.0)\n",
            "Requirement already satisfied: rsa<5,>=3.1.4 in /usr/local/lib/python3.10/dist-packages (from google-auth<3,>=1.6.3->tensorboard<2.15,>=2.14->tensorflow) (4.9)\n",
            "Requirement already satisfied: requests-oauthlib>=0.7.0 in /usr/local/lib/python3.10/dist-packages (from google-auth-oauthlib<1.1,>=0.5->tensorboard<2.15,>=2.14->tensorflow) (1.3.1)\n",
            "Requirement already satisfied: charset-normalizer<4,>=2 in /usr/local/lib/python3.10/dist-packages (from requests<3,>=2.21.0->tensorboard<2.15,>=2.14->tensorflow) (3.3.1)\n",
            "Requirement already satisfied: idna<4,>=2.5 in /usr/local/lib/python3.10/dist-packages (from requests<3,>=2.21.0->tensorboard<2.15,>=2.14->tensorflow) (3.4)\n",
            "Requirement already satisfied: urllib3<3,>=1.21.1 in /usr/local/lib/python3.10/dist-packages (from requests<3,>=2.21.0->tensorboard<2.15,>=2.14->tensorflow) (2.0.7)\n",
            "Requirement already satisfied: certifi>=2017.4.17 in /usr/local/lib/python3.10/dist-packages (from requests<3,>=2.21.0->tensorboard<2.15,>=2.14->tensorflow) (2023.7.22)\n",
            "Requirement already satisfied: MarkupSafe>=2.1.1 in /usr/local/lib/python3.10/dist-packages (from werkzeug>=1.0.1->tensorboard<2.15,>=2.14->tensorflow) (2.1.3)\n",
            "Requirement already satisfied: pyasn1<0.6.0,>=0.4.6 in /usr/local/lib/python3.10/dist-packages (from pyasn1-modules>=0.2.1->google-auth<3,>=1.6.3->tensorboard<2.15,>=2.14->tensorflow) (0.5.0)\n",
            "Requirement already satisfied: oauthlib>=3.0.0 in /usr/local/lib/python3.10/dist-packages (from requests-oauthlib>=0.7.0->google-auth-oauthlib<1.1,>=0.5->tensorboard<2.15,>=2.14->tensorflow) (3.2.2)\n"
          ]
        }
      ]
    },
    {
      "cell_type": "code",
      "source": [
        "import numpy as np\n",
        "import tensorflow as tf\n",
        "from tensorflow import keras\n",
        "from sklearn.model_selection import train_test_split\n",
        "from sklearn.preprocessing import LabelEncoder\n",
        "from sklearn.datasets import fetch_olivetti_faces\n",
        "import matplotlib.pyplot as plt"
      ],
      "metadata": {
        "id": "W_Wd8evIIWd1"
      },
      "execution_count": null,
      "outputs": []
    },
    {
      "cell_type": "markdown",
      "source": [
        "Load the Olivetti Faces dataset"
      ],
      "metadata": {
        "id": "qBATXz46Itho"
      }
    },
    {
      "cell_type": "code",
      "source": [
        "from sklearn.datasets import fetch_olivetti_faces\n",
        "\n",
        "olivetti = fetch_olivetti_faces(shuffle=True, random_state=42)\n"
      ],
      "metadata": {
        "colab": {
          "base_uri": "https://localhost:8080/"
        },
        "id": "ehnSKWGsIpV4",
        "outputId": "d930134f-515f-4a80-be2b-b0ae29d13024"
      },
      "execution_count": null,
      "outputs": [
        {
          "output_type": "stream",
          "name": "stdout",
          "text": [
            "downloading Olivetti faces from https://ndownloader.figshare.com/files/5976027 to /root/scikit_learn_data\n"
          ]
        }
      ]
    },
    {
      "cell_type": "markdown",
      "source": [
        "Split the dataset into training and test sets"
      ],
      "metadata": {
        "id": "_6Hj5TerI2jS"
      }
    },
    {
      "cell_type": "code",
      "source": [
        "from sklearn.datasets import fetch_olivetti_faces\n",
        "import numpy as np\n",
        "# Reshape the input data to 2D images\n",
        "X = X.reshape(-1, 64, 64, 1)\n",
        "X_train, X_test, y_train, y_test = train_test_split(X, y, test_size=0.2, random_state=42)\n"
      ],
      "metadata": {
        "id": "dlLSIlMDI5_S"
      },
      "execution_count": null,
      "outputs": []
    },
    {
      "cell_type": "markdown",
      "source": [
        " Encode the labels"
      ],
      "metadata": {
        "id": "jMDuqCHCJOT5"
      }
    },
    {
      "cell_type": "code",
      "source": [
        "# Encode the labels\n",
        "label_encoder = LabelEncoder()\n",
        "y_train = label_encoder.fit_transform(y_train)\n",
        "y_test = label_encoder.transform(y_test)\n"
      ],
      "metadata": {
        "id": "xU5muaGZJCgo"
      },
      "execution_count": null,
      "outputs": []
    },
    {
      "cell_type": "markdown",
      "source": [
        "Define the Siamese network architecture"
      ],
      "metadata": {
        "id": "5eLzrvLSJSKe"
      }
    },
    {
      "cell_type": "code",
      "source": [
        "def create_siamese_model(input_shape):\n",
        "    input = keras.layers.Input(shape=input_shape)\n",
        "    x = keras.layers.Conv2D(64, (3, 3), activation='relu')(input)\n",
        "    x = keras.layers.MaxPooling2D()(x)\n",
        "    x = keras.layers.Conv2D(128, (3, 3), activation='relu')(x)\n",
        "    x = keras.layers.MaxPooling2D()(x)\n",
        "    x = keras.layers.Flatten()(x)\n",
        "    x = keras.layers.Dense(128, activation='relu')(x)\n",
        "    output = keras.layers.Dense(64)(x)\n",
        "    return keras.Model(input, output)\n"
      ],
      "metadata": {
        "id": "8b5gOYGwJRlR"
      },
      "execution_count": null,
      "outputs": []
    },
    {
      "cell_type": "markdown",
      "source": [
        " Create Siamese model with shared weights"
      ],
      "metadata": {
        "id": "O6S-V_lEJaP2"
      }
    },
    {
      "cell_type": "code",
      "source": [
        "input_shape = X_train[0].shape\n",
        "base_network = create_siamese_model(input_shape)\n",
        "input_a = keras.layers.Input(shape=input_shape)\n",
        "input_b = keras.layers.Input(shape=input_shape)\n",
        "output_a = base_network(input_a)\n",
        "output_b = base_network(input_b)"
      ],
      "metadata": {
        "id": "SEnNuH0XJXf6"
      },
      "execution_count": null,
      "outputs": []
    },
    {
      "cell_type": "markdown",
      "source": [
        "Calculate the L1 distance between the outputs and  Create the Siamese network model"
      ],
      "metadata": {
        "id": "Rqu3NHx8Jy48"
      }
    },
    {
      "cell_type": "code",
      "source": [
        "# Calculate the L1 distance between the outputs\n",
        "distance = keras.layers.Lambda(lambda x: tf.abs(x[0] - x[1]))([output_a, output_b])\n",
        "\n",
        "# Create the Siamese network model\n",
        "siamese_model = keras.Model(inputs=[input_a, input_b], outputs=distance)\n"
      ],
      "metadata": {
        "id": "aWTwQTbaJeuV"
      },
      "execution_count": null,
      "outputs": []
    },
    {
      "cell_type": "markdown",
      "source": [
        " Define the contrastive loss function"
      ],
      "metadata": {
        "id": "knfATP5NKAY-"
      }
    },
    {
      "cell_type": "code",
      "source": [
        "def contrastive_loss(y_true, y_pred):\n",
        "    margin = 1.0\n",
        "    y_true = tf.cast(y_true, tf.float32)  # Cast y_true to float32\n",
        "    return tf.reduce_mean((1 - y_true) * tf.square(y_pred) + y_true * tf.square(tf.maximum(margin - y_pred, 0)))\n"
      ],
      "metadata": {
        "id": "ibDHFez3J-xS"
      },
      "execution_count": null,
      "outputs": []
    },
    {
      "cell_type": "markdown",
      "source": [
        " Compile the Siamese model"
      ],
      "metadata": {
        "id": "kRw4Kv70KOIc"
      }
    },
    {
      "cell_type": "code",
      "source": [
        "siamese_model.compile(loss=contrastive_loss, optimizer='adam')"
      ],
      "metadata": {
        "id": "-zO89A7JKFly"
      },
      "execution_count": null,
      "outputs": []
    },
    {
      "cell_type": "markdown",
      "source": [
        " Training the Siamese network"
      ],
      "metadata": {
        "id": "gBneFGM7KPoS"
      }
    },
    {
      "cell_type": "code",
      "source": [
        "num_epochs = 20\n",
        "batch_size = 32"
      ],
      "metadata": {
        "id": "AGnu3AGzKNOS"
      },
      "execution_count": null,
      "outputs": []
    },
    {
      "cell_type": "markdown",
      "source": [
        "Generating positive and negative pairs for training"
      ],
      "metadata": {
        "id": "BOS6WBg0KVxE"
      }
    },
    {
      "cell_type": "code",
      "source": [
        "def generate_pairs(X, y, num_pairs=1000):\n",
        "    pairs = []\n",
        "    labels = []\n",
        "    for i in range(num_pairs):\n",
        "        # Generate a positive pair (images of the same person)\n",
        "        idx1, idx2 = np.random.choice(len(X), size=2, replace=False)\n",
        "        pairs.append([X[idx1], X[idx2]])\n",
        "        labels.append(1)\n",
        "\n",
        "        # Generate a negative pair (images of different people)\n",
        "        different_person_indices = np.where(y != y[idx1])[0]\n",
        "        idx3 = np.random.choice(different_person_indices)\n",
        "        pairs.append([X[idx1], X[idx3]])\n",
        "        labels.append(0)\n",
        "    return np.array(pairs), np.array(labels)\n",
        "\n",
        "train_pairs, train_labels = generate_pairs(X_train, y_train, num_pairs=1000)\n",
        "\n",
        "history = siamese_model.fit(\n",
        "    [train_pairs[:, 0], train_pairs[:, 1]],\n",
        "    train_labels,\n",
        "    epochs=num_epochs,\n",
        "    batch_size=batch_size,\n",
        "    validation_split=0.2\n",
        ")"
      ],
      "metadata": {
        "colab": {
          "base_uri": "https://localhost:8080/"
        },
        "id": "SxJUtAWgKTVO",
        "outputId": "7eeeb82f-524d-4124-b261-2b61222856d4"
      },
      "execution_count": null,
      "outputs": [
        {
          "output_type": "stream",
          "name": "stdout",
          "text": [
            "Epoch 1/20\n",
            "50/50 [==============================] - 45s 863ms/step - loss: 0.3581 - val_loss: 0.3444\n",
            "Epoch 2/20\n",
            "50/50 [==============================] - 45s 901ms/step - loss: 0.3409 - val_loss: 0.3419\n",
            "Epoch 3/20\n",
            "50/50 [==============================] - 50s 998ms/step - loss: 0.3331 - val_loss: 0.3399\n",
            "Epoch 4/20\n",
            "50/50 [==============================] - 37s 745ms/step - loss: 0.3275 - val_loss: 0.3364\n",
            "Epoch 5/20\n",
            "50/50 [==============================] - 39s 786ms/step - loss: 0.3171 - val_loss: 0.3397\n",
            "Epoch 6/20\n",
            "50/50 [==============================] - 37s 748ms/step - loss: 0.3078 - val_loss: 0.3377\n",
            "Epoch 7/20\n",
            "50/50 [==============================] - 39s 779ms/step - loss: 0.2987 - val_loss: 0.3375\n",
            "Epoch 8/20\n",
            "50/50 [==============================] - 37s 752ms/step - loss: 0.2903 - val_loss: 0.3368\n",
            "Epoch 9/20\n",
            "50/50 [==============================] - 38s 754ms/step - loss: 0.2831 - val_loss: 0.3428\n",
            "Epoch 10/20\n",
            "50/50 [==============================] - 38s 754ms/step - loss: 0.2780 - val_loss: 0.3449\n",
            "Epoch 11/20\n",
            "50/50 [==============================] - 38s 753ms/step - loss: 0.2769 - val_loss: 0.3455\n",
            "Epoch 12/20\n",
            "50/50 [==============================] - 37s 750ms/step - loss: 0.2702 - val_loss: 0.3386\n",
            "Epoch 13/20\n",
            "50/50 [==============================] - 37s 750ms/step - loss: 0.2672 - val_loss: 0.3351\n",
            "Epoch 14/20\n",
            "50/50 [==============================] - 37s 734ms/step - loss: 0.2628 - val_loss: 0.3424\n",
            "Epoch 15/20\n",
            "50/50 [==============================] - 37s 739ms/step - loss: 0.2619 - val_loss: 0.3397\n",
            "Epoch 16/20\n",
            "50/50 [==============================] - 38s 752ms/step - loss: 0.2546 - val_loss: 0.3457\n",
            "Epoch 17/20\n",
            "50/50 [==============================] - 37s 752ms/step - loss: 0.2526 - val_loss: 0.3455\n",
            "Epoch 18/20\n",
            "50/50 [==============================] - 37s 748ms/step - loss: 0.2496 - val_loss: 0.3457\n",
            "Epoch 19/20\n",
            "50/50 [==============================] - 37s 752ms/step - loss: 0.2450 - val_loss: 0.3531\n",
            "Epoch 20/20\n",
            "50/50 [==============================] - 38s 756ms/step - loss: 0.2438 - val_loss: 0.3462\n"
          ]
        }
      ]
    },
    {
      "cell_type": "markdown",
      "source": [
        "Evaluate the Siamese network on the test set"
      ],
      "metadata": {
        "id": "nv5FNu3FK3kZ"
      }
    },
    {
      "cell_type": "code",
      "source": [
        "test_pairs, test_labels = generate_pairs(X_test, y_test, num_pairs=500)\n",
        "test_loss = siamese_model.evaluate([test_pairs[:, 0], test_pairs[:, 1]], test_labels)\n",
        "\n",
        "print(f'Test loss: {test_loss}')"
      ],
      "metadata": {
        "colab": {
          "base_uri": "https://localhost:8080/"
        },
        "id": "Fu83rtUpKeLR",
        "outputId": "ebd57224-9452-4e71-8d9f-d3d401d603de"
      },
      "execution_count": null,
      "outputs": [
        {
          "output_type": "stream",
          "name": "stdout",
          "text": [
            "32/32 [==============================] - 5s 160ms/step - loss: 0.3362\n",
            "Test loss: 0.33622491359710693\n"
          ]
        }
      ]
    },
    {
      "cell_type": "markdown",
      "source": [
        "Visualize the learned embeddings"
      ],
      "metadata": {
        "id": "xKzfEUUQLCLQ"
      }
    },
    {
      "cell_type": "code",
      "source": [
        "embeddings = base_network.predict(X_test)\n",
        "plt.scatter(embeddings[:, 0], embeddings[:, 1], c=y_test, cmap='viridis')\n",
        "plt.colorbar()\n",
        "plt.show()"
      ],
      "metadata": {
        "colab": {
          "base_uri": "https://localhost:8080/",
          "height": 448
        },
        "id": "t7UJD6qTLIUC",
        "outputId": "37cf2061-f64c-424c-cf04-b610ec20ced6"
      },
      "execution_count": null,
      "outputs": [
        {
          "output_type": "stream",
          "name": "stdout",
          "text": [
            "3/3 [==============================] - 1s 158ms/step\n"
          ]
        },
        {
          "output_type": "display_data",
          "data": {
            "text/plain": [
              "<Figure size 640x480 with 2 Axes>"
            ],
            "image/png": "[encoded data removed]"
          },
          "metadata": {}
        }
      ]
    }
  ]
}